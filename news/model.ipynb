{
 "cells": [
  {
   "cell_type": "code",
   "execution_count": 1,
   "metadata": {},
   "outputs": [],
   "source": [
    "import numpy as np\n",
    "import pandas as pd\n",
    "\n",
    "import math\n",
    "\n",
    "import matplotlib.pyplot as plt\n",
    "%matplotlib inline"
   ]
  },
  {
   "cell_type": "code",
   "execution_count": 5,
   "metadata": {},
   "outputs": [
    {
     "data": {
      "text/html": [
       "<div>\n",
       "<style scoped>\n",
       "    .dataframe tbody tr th:only-of-type {\n",
       "        vertical-align: middle;\n",
       "    }\n",
       "\n",
       "    .dataframe tbody tr th {\n",
       "        vertical-align: top;\n",
       "    }\n",
       "\n",
       "    .dataframe thead th {\n",
       "        text-align: right;\n",
       "    }\n",
       "</style>\n",
       "<table border=\"1\" class=\"dataframe\">\n",
       "  <thead>\n",
       "    <tr style=\"text-align: right;\">\n",
       "      <th></th>\n",
       "      <th>title</th>\n",
       "      <th>text</th>\n",
       "    </tr>\n",
       "  </thead>\n",
       "  <tbody>\n",
       "    <tr>\n",
       "      <th>0</th>\n",
       "      <td>В МИД Белоруссии одобрили вынос российского фл...</td>\n",
       "      <td>Белорусский спортсмен, несший на открытии пара...</td>\n",
       "    </tr>\n",
       "    <tr>\n",
       "      <th>1</th>\n",
       "      <td>Про Хана Соло и Бобу Фетта из «Звездных войн» ...</td>\n",
       "      <td>Стало известно, кто именно будет центральными ...</td>\n",
       "    </tr>\n",
       "    <tr>\n",
       "      <th>2</th>\n",
       "      <td>В Рунете началась вирусная ICQ-эпидемия</td>\n",
       "      <td>Тысячи пользователей стали жертвой нового ICQ-...</td>\n",
       "    </tr>\n",
       "    <tr>\n",
       "      <th>3</th>\n",
       "      <td>Шуховскую башню на Оке признали памятником фед...</td>\n",
       "      <td>Башня конструкции инженера Владимира Шухова в ...</td>\n",
       "    </tr>\n",
       "    <tr>\n",
       "      <th>4</th>\n",
       "      <td>Голодец предупредила правительство о последств...</td>\n",
       "      <td>Вице-премьер правительства России Ольга Голоде...</td>\n",
       "    </tr>\n",
       "  </tbody>\n",
       "</table>\n",
       "</div>"
      ],
      "text/plain": [
       "                                               title  \\\n",
       "0  В МИД Белоруссии одобрили вынос российского фл...   \n",
       "1  Про Хана Соло и Бобу Фетта из «Звездных войн» ...   \n",
       "2            В Рунете началась вирусная ICQ-эпидемия   \n",
       "3  Шуховскую башню на Оке признали памятником фед...   \n",
       "4  Голодец предупредила правительство о последств...   \n",
       "\n",
       "                                                text  \n",
       "0  Белорусский спортсмен, несший на открытии пара...  \n",
       "1  Стало известно, кто именно будет центральными ...  \n",
       "2  Тысячи пользователей стали жертвой нового ICQ-...  \n",
       "3  Башня конструкции инженера Владимира Шухова в ...  \n",
       "4  Вице-премьер правительства России Ольга Голоде...  "
      ]
     },
     "execution_count": 5,
     "metadata": {},
     "output_type": "execute_result"
    }
   ],
   "source": [
    "df = pd.read_table('data/news_train.txt', names=('label', 'title', 'text'))\n",
    "df_test = pd.read_table('data/news_test.txt', names=('title', 'text'))\n",
    "df_test.head()"
   ]
  },
  {
   "cell_type": "markdown",
   "metadata": {},
   "source": [
    "# Preprocessing\n",
    "## Tokenize text"
   ]
  },
  {
   "cell_type": "code",
   "execution_count": 6,
   "metadata": {},
   "outputs": [],
   "source": [
    "labels = df['label'].unique()\n",
    "label_map = {x:i for i,x in enumerate(labels)}\n",
    "\n",
    "df['label'] = df['label'].map(label_map)"
   ]
  },
  {
   "cell_type": "code",
   "execution_count": 7,
   "metadata": {},
   "outputs": [
    {
     "data": {
      "text/html": [
       "<div>\n",
       "<style scoped>\n",
       "    .dataframe tbody tr th:only-of-type {\n",
       "        vertical-align: middle;\n",
       "    }\n",
       "\n",
       "    .dataframe tbody tr th {\n",
       "        vertical-align: top;\n",
       "    }\n",
       "\n",
       "    .dataframe thead th {\n",
       "        text-align: right;\n",
       "    }\n",
       "</style>\n",
       "<table border=\"1\" class=\"dataframe\">\n",
       "  <thead>\n",
       "    <tr style=\"text-align: right;\">\n",
       "      <th></th>\n",
       "      <th>label</th>\n",
       "      <th>title</th>\n",
       "      <th>text</th>\n",
       "    </tr>\n",
       "  </thead>\n",
       "  <tbody>\n",
       "    <tr>\n",
       "      <th>0</th>\n",
       "      <td>0</td>\n",
       "      <td>наградит победителей регаты</td>\n",
       "      <td>парусная гонка                    пройдет в ср...</td>\n",
       "    </tr>\n",
       "    <tr>\n",
       "      <th>1</th>\n",
       "      <td>1</td>\n",
       "      <td>матс сундин стал советником тренера сборной шв...</td>\n",
       "      <td>шведский хоккеист fi назначен советником главн...</td>\n",
       "    </tr>\n",
       "    <tr>\n",
       "      <th>2</th>\n",
       "      <td>2</td>\n",
       "      <td>брендом года по версии       впервые стал город</td>\n",
       "      <td>гран-при конкурса  брэнд года        получил г...</td>\n",
       "    </tr>\n",
       "    <tr>\n",
       "      <th>3</th>\n",
       "      <td>3</td>\n",
       "      <td>цена нефти     снизилась после публикации данн...</td>\n",
       "      <td>цена американской нефти     на лондонской бирж...</td>\n",
       "    </tr>\n",
       "    <tr>\n",
       "      <th>4</th>\n",
       "      <td>3</td>\n",
       "      <td>сбербанк распродаст другим банкирам миллиардны...</td>\n",
       "      <td>сбербанк выставил на продажу долги по 0.0 тыся...</td>\n",
       "    </tr>\n",
       "  </tbody>\n",
       "</table>\n",
       "</div>"
      ],
      "text/plain": [
       "   label                                              title  \\\n",
       "0      0                        наградит победителей регаты   \n",
       "1      1  матс сундин стал советником тренера сборной шв...   \n",
       "2      2    брендом года по версии       впервые стал город   \n",
       "3      3  цена нефти     снизилась после публикации данн...   \n",
       "4      3  сбербанк распродаст другим банкирам миллиардны...   \n",
       "\n",
       "                                                text  \n",
       "0  парусная гонка                    пройдет в ср...  \n",
       "1  шведский хоккеист fi назначен советником главн...  \n",
       "2  гран-при конкурса  брэнд года        получил г...  \n",
       "3  цена американской нефти     на лондонской бирж...  \n",
       "4  сбербанк выставил на продажу долги по 0.0 тыся...  "
      ]
     },
     "execution_count": 7,
     "metadata": {},
     "output_type": "execute_result"
    }
   ],
   "source": [
    "def standardize_text(df, text_field):\n",
    "    df[text_field] = df[text_field].str.replace(r\"http\\S+\", \"\")\n",
    "    df[text_field] = df[text_field].str.replace(r\"http\", \"\")\n",
    "    df[text_field] = df[text_field].str.replace(r\"@\\S+\", \"\")\n",
    "\n",
    "    #df[text_field] = df[text_field].str.replace(r\"[^А-Яа-я0-9(),!?@\\'\\`\\\"\\_\\n]\", \" \")\n",
    "    df[text_field] = df[text_field].str.replace(r\"[^А-Яа-я0-9.,\\-]\", \" \")\n",
    "    \n",
    "    #df[text_field] = df[text_field].str.replace(r\"[«\\'\\`\\\"]\\w+[»\\'\\`\\\"]\", \"quote\")\n",
    "    \n",
    "    df[text_field] = df[text_field].str.replace(r\"[А-Я]. [А-Я]. [А-Я][а-я]+\", \"FIO\")    #names\n",
    "    df[text_field] = df[text_field].str.replace(r\" [А-Я][а-я]+ [А-Я][а-я]+\", \" FI\")\n",
    "    \n",
    "    df[text_field] = df[text_field].str.lower()\n",
    "    \n",
    "    df[text_field] = df[text_field].str.replace(r\"[0-9]\", \"0\")      #numbers to universal token\n",
    "    df[text_field] = df[text_field].str.replace(r\"0+[,.]0+\", \"0.0\")\n",
    "    \n",
    "    df[text_field] = df[text_field].str.replace(r\"не \", \"не_\")      #merge не with following word\n",
    "    \n",
    "    df[text_field] = df[text_field].str.replace(r\"[.,] \", \" \")      #del punctuation\n",
    "    return df\n",
    "\n",
    "df = standardize_text(df, 'title')\n",
    "df = standardize_text(df, 'text')\n",
    "\n",
    "df_test = standardize_text(df_test, 'title')\n",
    "df_test = standardize_text(df_test, 'text')\n",
    "\n",
    "df.head()"
   ]
  },
  {
   "cell_type": "code",
   "execution_count": 8,
   "metadata": {},
   "outputs": [
    {
     "data": {
      "text/html": [
       "<div>\n",
       "<style scoped>\n",
       "    .dataframe tbody tr th:only-of-type {\n",
       "        vertical-align: middle;\n",
       "    }\n",
       "\n",
       "    .dataframe tbody tr th {\n",
       "        vertical-align: top;\n",
       "    }\n",
       "\n",
       "    .dataframe thead th {\n",
       "        text-align: right;\n",
       "    }\n",
       "</style>\n",
       "<table border=\"1\" class=\"dataframe\">\n",
       "  <thead>\n",
       "    <tr style=\"text-align: right;\">\n",
       "      <th></th>\n",
       "      <th>title</th>\n",
       "      <th>text</th>\n",
       "    </tr>\n",
       "  </thead>\n",
       "  <tbody>\n",
       "    <tr>\n",
       "      <th>0</th>\n",
       "      <td>в мид белоруссии одобрили вынос российского фл...</td>\n",
       "      <td>белорусский спортсмен несший на открытии парал...</td>\n",
       "    </tr>\n",
       "    <tr>\n",
       "      <th>1</th>\n",
       "      <td>про fi и fi из  звездных войн  снимут два отде...</td>\n",
       "      <td>стало известно кто именно будет центральными г...</td>\n",
       "    </tr>\n",
       "    <tr>\n",
       "      <th>2</th>\n",
       "      <td>в рунете началась вирусная    -эпидемия</td>\n",
       "      <td>тысячи пользователей стали жертвой нового    -...</td>\n",
       "    </tr>\n",
       "    <tr>\n",
       "      <th>3</th>\n",
       "      <td>шуховскую башню на оке признали памятником фед...</td>\n",
       "      <td>башня конструкции инженера fi в городе fi обла...</td>\n",
       "    </tr>\n",
       "    <tr>\n",
       "      <th>4</th>\n",
       "      <td>голодец предупредила правительство о последств...</td>\n",
       "      <td>вице-премьер правительства fi голодец призвала...</td>\n",
       "    </tr>\n",
       "  </tbody>\n",
       "</table>\n",
       "</div>"
      ],
      "text/plain": [
       "                                               title  \\\n",
       "0  в мид белоруссии одобрили вынос российского фл...   \n",
       "1  про fi и fi из  звездных войн  снимут два отде...   \n",
       "2            в рунете началась вирусная    -эпидемия   \n",
       "3  шуховскую башню на оке признали памятником фед...   \n",
       "4  голодец предупредила правительство о последств...   \n",
       "\n",
       "                                                text  \n",
       "0  белорусский спортсмен несший на открытии парал...  \n",
       "1  стало известно кто именно будет центральными г...  \n",
       "2  тысячи пользователей стали жертвой нового    -...  \n",
       "3  башня конструкции инженера fi в городе fi обла...  \n",
       "4  вице-премьер правительства fi голодец призвала...  "
      ]
     },
     "execution_count": 8,
     "metadata": {},
     "output_type": "execute_result"
    }
   ],
   "source": [
    "df_test.head()"
   ]
  },
  {
   "cell_type": "markdown",
   "metadata": {},
   "source": [
    "## Get BOF"
   ]
  },
  {
   "cell_type": "code",
   "execution_count": 9,
   "metadata": {},
   "outputs": [
    {
     "name": "stdout",
     "output_type": "stream",
     "text": [
      "11150160 471316\n"
     ]
    }
   ],
   "source": [
    "def get_vocabulary(df):\n",
    "    bag = {}    #bag og words\n",
    "    words_count = 0\n",
    "    words_count_in_labels = [0 for x in labels]\n",
    "    \n",
    "    # Process title    \n",
    "    for i,string in enumerate(df['title'].values):\n",
    "        label_idx = df['label'].values[i]\n",
    "        \n",
    "        for word in string.split():\n",
    "            words_count += 1\n",
    "            words_count_in_labels[label_idx] += 1\n",
    "            \n",
    "            word = stem(word)            \n",
    "            if word not in bag:\n",
    "                bag[word] = 1\n",
    "            else:\n",
    "                bag[word] += 1\n",
    "            \n",
    "            #bag[word] = [0 for x in labels]    # save how much this word appear for each label\n",
    "            #bag[word][label_idx] += 1\n",
    "            \n",
    "    for i,string in enumerate(df['text'].values):\n",
    "        label_idx = df['label'].values[i]\n",
    "        \n",
    "        for word in string.split():\n",
    "            words_count += 1\n",
    "            words_count_in_labels[label_idx] += 1\n",
    "            \n",
    "            word = stem(word)            \n",
    "            if word not in bag:\n",
    "                bag[word] = 1\n",
    "            else:\n",
    "                bag[word] += 1\n",
    "    \n",
    "    return bag, words_count, words_count_in_labels\n",
    "\n",
    "def stem(word):\n",
    "    #TODO: some sort of stemming or lemmatization\n",
    "    return word \n",
    "\n",
    "bag, wc, wcl = get_vocabulary(df)\n",
    "print(wc, len(bag))"
   ]
  },
  {
   "cell_type": "markdown",
   "metadata": {},
   "source": [
    "## Get Tf-Idf"
   ]
  },
  {
   "cell_type": "code",
   "execution_count": 10,
   "metadata": {},
   "outputs": [
    {
     "name": "stdout",
     "output_type": "stream",
     "text": [
      "1360\n"
     ]
    }
   ],
   "source": [
    "class TfIdfVectorizer():\n",
    "    def compute_tf(self, bag):\n",
    "        tfDict = {}\n",
    "        for word, count in bag.items():\n",
    "            tfDict[word] = count / len(bag)\n",
    "        return tfDict\n",
    "\n",
    "    def compute_idf(self, bag, docList):\n",
    "        idfDict = dict.fromkeys(bag.keys(), 0)\n",
    "        N = len(docList)\n",
    "\n",
    "        for doc in docList:\n",
    "            for word in set(doc.split()):\n",
    "                idfDict[word] += 1\n",
    "\n",
    "        for word, val in idfDict.items():\n",
    "            idfDict[word] = math.log(N / float(val)) + 1\n",
    "        return idfDict\n",
    "\n",
    "    def compute_tfidf(self, tf, idf, threshold=0.001):\n",
    "        tfidfDict = {}\n",
    "        for word, val in tf.items():\n",
    "            v = val*idf[word]\n",
    "            if (v > threshold):\n",
    "                tfidfDict[word] = v\n",
    "        return tfidfDict\n",
    "    \n",
    "    def __init__(self, bag, docList, threshold=0.001):\n",
    "        tf = self.compute_tf(bag)\n",
    "        idf = self.compute_idf(bag, docList)\n",
    "        self.vocabulary = self.compute_tfidf(tf, idf, threshold)\n",
    "    \n",
    "    def vectorize_string(self, string):\n",
    "        vec = dict.fromkeys(self.vocabulary.keys(), 0)\n",
    "        for word in string.split():\n",
    "            try:\n",
    "                vec[word] += self.vocabulary[word]\n",
    "            except:\n",
    "                continue\n",
    "            \n",
    "        vec = np.array(list(vec.values()))\n",
    "        vec /= np.linalg.norm(vec)\n",
    "        \n",
    "        return vec\n",
    "    \n",
    "    def vectorize(self, array):\n",
    "        v = np.array([self.vectorize_string(x) for x in array])\n",
    "        return v\n",
    "\n",
    "\n",
    "tfidf = TfIdfVectorizer(bag, (df['title'] + \" \" + df[\"text\"]).tolist() , threshold=0.01)\n",
    "print(len(tfidf.vocabulary))"
   ]
  },
  {
   "cell_type": "code",
   "execution_count": 11,
   "metadata": {},
   "outputs": [],
   "source": [
    "X_train = (df['title'] + \" \" + df[\"text\"]).tolist()\n",
    "X_test = (df_test['title'] + \" \" + df_test[\"text\"]).tolist()\n",
    "y_train = df[\"label\"].tolist()\n",
    "\n",
    "X_train_counts = tfidf.vectorize(X_train)\n",
    "X_test_counts = tfidf.vectorize(X_test)"
   ]
  },
  {
   "cell_type": "code",
   "execution_count": 12,
   "metadata": {},
   "outputs": [],
   "source": [
    "X_mean, X_std = X_train_counts.mean(axis=0), X_train_counts.std(axis=0)\n",
    "X_train_counts = (X_train_counts - X_mean)/X_std\n",
    "X_test_counts = (X_test_counts - X_mean)/X_std"
   ]
  },
  {
   "cell_type": "markdown",
   "metadata": {},
   "source": [
    "# Define classifier\n",
    "Logistic regression with logloss"
   ]
  },
  {
   "cell_type": "code",
   "execution_count": 13,
   "metadata": {},
   "outputs": [],
   "source": [
    "def accuracy(y, y_pred):\n",
    "    return sum(y == y_pred) / len(y)\n",
    "\n",
    "def MSE(y_pred, y):\n",
    "    return np.mean(np.square(np.subtract(y, y_pred)))\n",
    "\n",
    "def sigmoid(x):\n",
    "    return 1/(1 + np.exp(-x))\n",
    "\n",
    "def ReLU(x):\n",
    "    return np.clip(x, a_min=0)\n",
    "\n",
    "\n",
    "def logloss(y, y_pred, eps=1e-15):\n",
    "    y_p = np.clip(y_pred, eps, 1 - eps)\n",
    "    return - y*np.log(y_p) - (1-y)*(np.log(1-y_p))\n",
    "\n",
    "def dlogloss_dy(y, y_pred, eps=1e-15):\n",
    "    y_p = np.clip(y_pred, eps, 1 - eps)\n",
    "    return - y*(1/y_p) + (1-y)*1/(1-y_p)"
   ]
  },
  {
   "cell_type": "code",
   "execution_count": 14,
   "metadata": {},
   "outputs": [],
   "source": [
    "class LogReg():\n",
    "    def __init__(self):\n",
    "        self.weights = None\n",
    "    \n",
    "    def fit(self, X, y, eta=1e-2, n_classes=10, max_iter=10):\n",
    "        history = []\n",
    "        \n",
    "        N = X.shape[0]\n",
    "        \n",
    "        b = np.ones((N,1))          #add bias\n",
    "        X_bias = np.hstack((X,b))\n",
    "        \n",
    "        n_features = X_bias.shape[1]\n",
    "        \n",
    "        if self.weights is None:\n",
    "            self.weights = np.random.randn(n_classes, n_features)\n",
    "            \n",
    "        print(\"Train on \", N, \"x\", n_features)\n",
    "        print(\"Start training\")\n",
    "        for i in range(max_iter):\n",
    "            running_loss = 0.0\n",
    "            for j in range(N):\n",
    "                \n",
    "                sample, label = X_bias[j], y[j]\n",
    "                \n",
    "                #label 2 vector\n",
    "                y_true = np.zeros(n_classes)\n",
    "                y_true[label] = 1\n",
    "                \n",
    "                #calculate prediction\n",
    "                z = np.matmul(self.weights, sample.T)\n",
    "                y_pred = sigmoid(z)\n",
    "                \n",
    "                loss = logloss(y_true, y_pred)\n",
    "                running_loss += np.mean(loss)\n",
    "                \n",
    "                #calculate gradient\n",
    "                dsigm_dz = y_pred * (1 - y_pred)\n",
    "                grad = np.outer(dlogloss_dy(y_true, y_pred) * dsigm_dz, sample)\n",
    "                \n",
    "                self.weights -= eta * grad\n",
    "                \n",
    "                if j % 20000 == 19999:\n",
    "                    history.append(running_loss/1000)\n",
    "                    #print(\"[{} - {}] loss: {:.5}\".format(i,j,running_loss/1000))\n",
    "                    running_loss = 0.0\n",
    "        return history\n",
    "    \n",
    "    def predict(self, X):\n",
    "        N = X.shape[0]\n",
    "        \n",
    "        b = np.ones((N,1))          #add bias\n",
    "        X_bias = np.hstack((X,b))\n",
    "        \n",
    "        y = np.zeros(N)\n",
    "        \n",
    "        for i,sample in enumerate(X_bias):\n",
    "            z = np.matmul(self.weights, sample.T)\n",
    "            y_pred = sigmoid(z)\n",
    "            label = y_pred.argmax()\n",
    "            y[i] = label\n",
    "\n",
    "        return y"
   ]
  },
  {
   "cell_type": "markdown",
   "metadata": {},
   "source": [
    "## Train classifier using SGD"
   ]
  },
  {
   "cell_type": "code",
   "execution_count": 15,
   "metadata": {
    "scrolled": true
   },
   "outputs": [
    {
     "name": "stdout",
     "output_type": "stream",
     "text": [
      "Train on  60000 x 1361\n",
      "Start training\n"
     ]
    },
    {
     "name": "stderr",
     "output_type": "stream",
     "text": [
      "/media/andre6o6/aux/anaconda3/envs/nn/lib/python3.5/site-packages/ipykernel_launcher.py:8: RuntimeWarning: overflow encountered in exp\n",
      "  \n"
     ]
    },
    {
     "name": "stdout",
     "output_type": "stream",
     "text": [
      "loss =  5.930292868846412\n"
     ]
    },
    {
     "data": {
      "image/png": "[encoded data removed]",
      "text/plain": [
       "<Figure size 432x288 with 1 Axes>"
      ]
     },
     "metadata": {
      "needs_background": "light"
     },
     "output_type": "display_data"
    }
   ],
   "source": [
    "clf = LogReg()\n",
    "history = clf.fit(X_train_counts, y_train)\n",
    "plt.plot(history)\n",
    "print(\"loss = \", history[-1])"
   ]
  },
  {
   "cell_type": "code",
   "execution_count": 20,
   "metadata": {
    "scrolled": true
   },
   "outputs": [
    {
     "name": "stdout",
     "output_type": "stream",
     "text": [
      "Train on  60000 x 1361\n",
      "Start training\n",
      "loss =  1.8535808862736474\n"
     ]
    },
    {
     "data": {
      "image/png": "[encoded data removed]",
      "text/plain": [
       "<Figure size 432x288 with 1 Axes>"
      ]
     },
     "metadata": {
      "needs_background": "light"
     },
     "output_type": "display_data"
    }
   ],
   "source": [
    "h2 = clf.fit(X_train_counts, y_train, eta=1e-5)\n",
    "history.extend(h2)\n",
    "plt.plot(history)\n",
    "print(\"loss = \", history[-1])"
   ]
  },
  {
   "cell_type": "code",
   "execution_count": 35,
   "metadata": {},
   "outputs": [],
   "source": [
    "y_pred = clf.predict(X_test_counts)\n",
    "\n",
    "inv_map = {v: k for k, v in label_map.items()}\n",
    "y_pred = [inv_map[int(x)] for x in y_pred]\n",
    "\n",
    "import os\n",
    "with open(os.path.join('data', 'submission.txt'), 'w') as f:\n",
    "    f.write('\\n'.join(y_pred))"
   ]
  },
  {
   "cell_type": "code",
   "execution_count": null,
   "metadata": {},
   "outputs": [],
   "source": []
  }
 ],
 "metadata": {
  "kernelspec": {
   "display_name": "Python 3",
   "language": "python",
   "name": "python3"
  },
  "language_info": {
   "codemirror_mode": {
    "name": "ipython",
    "version": 3
   },
   "file_extension": ".py",
   "mimetype": "text/x-python",
   "name": "python",
   "nbconvert_exporter": "python",
   "pygments_lexer": "ipython3",
   "version": "3.5.6"
  }
 },
 "nbformat": 4,
 "nbformat_minor": 2
}
